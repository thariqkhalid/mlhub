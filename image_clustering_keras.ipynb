{
 "cells": [
  {
   "cell_type": "code",
   "execution_count": 1,
   "metadata": {},
   "outputs": [
    {
     "name": "stderr",
     "output_type": "stream",
     "text": [
      "Using TensorFlow backend.\n"
     ]
    }
   ],
   "source": [
    "import keras"
   ]
  },
  {
   "cell_type": "code",
   "execution_count": 2,
   "metadata": {},
   "outputs": [],
   "source": [
    "from keras import Sequential\n",
    "from keras.applications.resnet50 import ResNet50\n",
    "from keras.preprocessing import image\n",
    "from keras.applications.resnet50 import preprocess_input, decode_predictions\n",
    "import numpy as np"
   ]
  },
  {
   "cell_type": "code",
   "execution_count": 3,
   "metadata": {},
   "outputs": [],
   "source": [
    "import cv2"
   ]
  },
  {
   "cell_type": "code",
   "execution_count": 4,
   "metadata": {},
   "outputs": [],
   "source": [
    "resnet_weights_path = '/home/thariq/image_clustering/model/resnet50_weights_tf_dim_ordering_tf_kernels.h5'"
   ]
  },
  {
   "cell_type": "code",
   "execution_count": 5,
   "metadata": {},
   "outputs": [],
   "source": [
    "my_new_model = Sequential()\n",
    "my_new_model.add(ResNet50(weights='imagenet', include_top=False, pooling='avg'))"
   ]
  },
  {
   "cell_type": "code",
   "execution_count": 90,
   "metadata": {},
   "outputs": [],
   "source": [
    "DATA_DIR = \"/home/thariq/image_clustering/data/\"\n",
    "file_names = os.listdir(DATA_DIR)\n",
    "im_paths = []\n",
    "for i in file_names:\n",
    "    ext = i.split(\".\")[1]\n",
    "    if ext != \"mp4\":\n",
    "        im_paths.append(os.path.join(DATA_DIR,i))"
   ]
  },
  {
   "cell_type": "code",
   "execution_count": 91,
   "metadata": {},
   "outputs": [
    {
     "data": {
      "text/plain": [
       "['/home/thariq/image_clustering/data/mbscls_front.jpg',\n",
       " '/home/thariq/image_clustering/data/WhatsApp_android_mi.jpeg',\n",
       " '/home/thariq/image_clustering/data/Whatsapp_iphone_xs.jpeg',\n",
       " '/home/thariq/image_clustering/data/WhatsApp_android.jpg',\n",
       " '/home/thariq/image_clustering/data/mbecls_side.jpeg',\n",
       " '/home/thariq/image_clustering/data/3.jpg',\n",
       " '/home/thariq/image_clustering/data/Whatsapp_iphone_xsmax.jpeg',\n",
       " '/home/thariq/image_clustering/data/WhatsApp_iphone.jpeg',\n",
       " '/home/thariq/image_clustering/data/2.jpg',\n",
       " '/home/thariq/image_clustering/data/AAypTFO.jpeg',\n",
       " '/home/thariq/image_clustering/data/Twitter_iphone_xs.jpeg',\n",
       " '/home/thariq/image_clustering/data/mbecls_front.jpg',\n",
       " '/home/thariq/image_clustering/data/1.jpg',\n",
       " '/home/thariq/image_clustering/data/4089_scarlett_johansson.jpg',\n",
       " '/home/thariq/image_clustering/data/Twitter_iphone_xsmax.jpeg',\n",
       " '/home/thariq/image_clustering/data/2691_natalie.jpg',\n",
       " '/home/thariq/image_clustering/data/mbscls_back.jpg']"
      ]
     },
     "execution_count": 91,
     "metadata": {},
     "output_type": "execute_result"
    }
   ],
   "source": [
    "im_paths"
   ]
  },
  {
   "cell_type": "code",
   "execution_count": 92,
   "metadata": {},
   "outputs": [],
   "source": [
    "def extract_vector(im_paths):\n",
    "    resnet_feature_list = []\n",
    "    \n",
    "    for im in im_paths:\n",
    "        im = cv2.imread(im)\n",
    "        im = cv2.resize(im,(224,224))\n",
    "        img = preprocess_input(np.expand_dims(im.copy(), axis=0))\n",
    "        resnet_feature = my_new_model.predict(img)\n",
    "        resnet_feature_np = np.array(resnet_feature)\n",
    "        resnet_feature_list.append(resnet_feature_np.flatten())\n",
    "\n",
    "    return np.array(resnet_feature_list)"
   ]
  },
  {
   "cell_type": "code",
   "execution_count": 93,
   "metadata": {},
   "outputs": [],
   "source": [
    "from sklearn.cluster import KMeans"
   ]
  },
  {
   "cell_type": "code",
   "execution_count": 94,
   "metadata": {},
   "outputs": [],
   "source": [
    "import os"
   ]
  },
  {
   "cell_type": "code",
   "execution_count": 95,
   "metadata": {},
   "outputs": [],
   "source": [
    "im_array = extract_vector(im_paths)"
   ]
  },
  {
   "cell_type": "code",
   "execution_count": 96,
   "metadata": {},
   "outputs": [
    {
     "name": "stdout",
     "output_type": "stream",
     "text": [
      "[2 1 1 1 2 2 1 1 2 2 1 2 2 0 1 0 2]\n"
     ]
    }
   ],
   "source": [
    "kmeans = KMeans(n_clusters=3, random_state=0).fit(im_array)\n",
    "print(kmeans.labels_)"
   ]
  },
  {
   "cell_type": "code",
   "execution_count": 97,
   "metadata": {},
   "outputs": [],
   "source": [
    "labels = kmeans.labels_\n",
    "class1 = np.where(labels==0)[0]\n",
    "class2 = np.where(labels==1)[0]\n",
    "class3 = np.where(labels==2)[0]"
   ]
  },
  {
   "cell_type": "code",
   "execution_count": 98,
   "metadata": {},
   "outputs": [],
   "source": [
    "class1_images = [im_paths[i] for i in class1]\n",
    "class2_images = [im_paths[i] for i in class2]\n",
    "class3_images = [im_paths[i] for i in class3]"
   ]
  },
  {
   "cell_type": "code",
   "execution_count": 99,
   "metadata": {},
   "outputs": [],
   "source": [
    "all_images_display = class1_images + class2_images + class3_images"
   ]
  },
  {
   "cell_type": "code",
   "execution_count": 100,
   "metadata": {},
   "outputs": [],
   "source": [
    "lenghts = [len(class1),len(class2),len(class3)]"
   ]
  },
  {
   "cell_type": "code",
   "execution_count": 101,
   "metadata": {},
   "outputs": [],
   "source": [
    "columns = np.argmax(lenghts)"
   ]
  },
  {
   "cell_type": "code",
   "execution_count": 115,
   "metadata": {},
   "outputs": [],
   "source": [
    "sorted_labels = np.argsort(labels)"
   ]
  },
  {
   "cell_type": "code",
   "execution_count": 116,
   "metadata": {},
   "outputs": [
    {
     "data": {
      "text/plain": [
       "array([13, 15,  1,  2,  3, 14,  6,  7, 10,  0, 12,  8,  9,  5,  4, 11, 16])"
      ]
     },
     "execution_count": 116,
     "metadata": {},
     "output_type": "execute_result"
    }
   ],
   "source": [
    "sorted_labels"
   ]
  },
  {
   "cell_type": "code",
   "execution_count": 102,
   "metadata": {},
   "outputs": [],
   "source": [
    "import matplotlib.pyplot as plt"
   ]
  },
  {
   "cell_type": "code",
   "execution_count": 103,
   "metadata": {},
   "outputs": [
    {
     "name": "stdout",
     "output_type": "stream",
     "text": [
      "Using matplotlib backend: TkAgg\n"
     ]
    }
   ],
   "source": [
    "%matplotlib auto"
   ]
  },
  {
   "cell_type": "code",
   "execution_count": 120,
   "metadata": {},
   "outputs": [],
   "source": [
    "fig=plt.figure(figsize=(8, 8))\n",
    "for i in range(1, columns*3 + 1):\n",
    "    fig.add_subplot(3, columns, i)\n",
    "    img = cv2.imread(all_images_display[i-1])\n",
    "    plt.title(labels[sorted_labels[i-1]])\n",
    "    plt.imshow(img)\n",
    "plt.show()"
   ]
  },
  {
   "cell_type": "code",
   "execution_count": 105,
   "metadata": {},
   "outputs": [
    {
     "name": "stdout",
     "output_type": "stream",
     "text": [
      "('/home/thariq/image_clustering/data/mbscls_front.jpg', 2)\n",
      "('/home/thariq/image_clustering/data/WhatsApp_android_mi.jpeg', 1)\n",
      "('/home/thariq/image_clustering/data/Whatsapp_iphone_xs.jpeg', 1)\n",
      "('/home/thariq/image_clustering/data/WhatsApp_android.jpg', 1)\n",
      "('/home/thariq/image_clustering/data/mbecls_side.jpeg', 2)\n",
      "('/home/thariq/image_clustering/data/3.jpg', 2)\n",
      "('/home/thariq/image_clustering/data/Whatsapp_iphone_xsmax.jpeg', 1)\n",
      "('/home/thariq/image_clustering/data/WhatsApp_iphone.jpeg', 1)\n",
      "('/home/thariq/image_clustering/data/2.jpg', 2)\n",
      "('/home/thariq/image_clustering/data/AAypTFO.jpeg', 2)\n",
      "('/home/thariq/image_clustering/data/Twitter_iphone_xs.jpeg', 1)\n",
      "('/home/thariq/image_clustering/data/mbecls_front.jpg', 2)\n",
      "('/home/thariq/image_clustering/data/1.jpg', 2)\n",
      "('/home/thariq/image_clustering/data/4089_scarlett_johansson.jpg', 0)\n",
      "('/home/thariq/image_clustering/data/Twitter_iphone_xsmax.jpeg', 1)\n",
      "('/home/thariq/image_clustering/data/2691_natalie.jpg', 0)\n",
      "('/home/thariq/image_clustering/data/mbscls_back.jpg', 2)\n"
     ]
    }
   ],
   "source": [
    "for i, img in enumerate(im_paths):\n",
    "    print(img,labels[i])"
   ]
  },
  {
   "cell_type": "code",
   "execution_count": null,
   "metadata": {},
   "outputs": [],
   "source": []
  },
  {
   "cell_type": "code",
   "execution_count": null,
   "metadata": {},
   "outputs": [],
   "source": []
  },
  {
   "cell_type": "code",
   "execution_count": null,
   "metadata": {},
   "outputs": [],
   "source": []
  }
 ],
 "metadata": {
  "kernelspec": {
   "display_name": "Python 2",
   "language": "python",
   "name": "python2"
  },
  "language_info": {
   "codemirror_mode": {
    "name": "ipython",
    "version": 2
   },
   "file_extension": ".py",
   "mimetype": "text/x-python",
   "name": "python",
   "nbconvert_exporter": "python",
   "pygments_lexer": "ipython2",
   "version": "2.7.15"
  }
 },
 "nbformat": 4,
 "nbformat_minor": 2
}
